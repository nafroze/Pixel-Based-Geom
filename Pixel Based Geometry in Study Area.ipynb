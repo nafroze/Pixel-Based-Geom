{
 "cells": [
  {
   "cell_type": "code",
   "execution_count": 8,
   "id": "67d6ba9a",
   "metadata": {},
   "outputs": [],
   "source": [
    "import rasterio\n",
    "from rasterio.mask import mask"
   ]
  },
  {
   "cell_type": "code",
   "execution_count": 9,
   "id": "1c6cd288",
   "metadata": {},
   "outputs": [],
   "source": [
    "import geopandas as gpd"
   ]
  },
  {
   "cell_type": "code",
   "execution_count": 11,
   "id": "1f3c86a4",
   "metadata": {},
   "outputs": [],
   "source": [
    "shapefile = gpd.read_file(r\"C:\\Users\\Nazia\\research_ntl\\trial\\clip_shp\\clip_houston_part.shp\")"
   ]
  },
  {
   "cell_type": "code",
   "execution_count": 12,
   "id": "09166cd0",
   "metadata": {},
   "outputs": [],
   "source": [
    "geoms = shapefile.geometry.values"
   ]
  },
  {
   "cell_type": "code",
   "execution_count": 13,
   "id": "e937262f",
   "metadata": {},
   "outputs": [],
   "source": [
    "geometry = geoms[0]"
   ]
  },
  {
   "cell_type": "code",
   "execution_count": 14,
   "id": "635c66f4",
   "metadata": {},
   "outputs": [],
   "source": [
    "from shapely.geometry import mapping"
   ]
  },
  {
   "cell_type": "code",
   "execution_count": 15,
   "id": "40f0aa30",
   "metadata": {},
   "outputs": [],
   "source": [
    "geoms = [mapping(geoms[0])]"
   ]
  },
  {
   "cell_type": "code",
   "execution_count": 16,
   "id": "64f6bbe8",
   "metadata": {},
   "outputs": [],
   "source": [
    "with rasterio.open(r\"C:\\Users\\Nazia\\research_ntl\\trial\\ntl_Mosaic_0201.tif\") as src:\n",
    "    out_image, out_transform = mask(src, geoms, crop=True)"
   ]
  },
  {
   "cell_type": "code",
   "execution_count": 17,
   "id": "6575887b",
   "metadata": {},
   "outputs": [],
   "source": [
    "no_data=src.nodata"
   ]
  },
  {
   "cell_type": "code",
   "execution_count": 18,
   "id": "eac4cd07",
   "metadata": {},
   "outputs": [],
   "source": [
    "data = out_image[0,:,:]"
   ]
  },
  {
   "cell_type": "code",
   "execution_count": 19,
   "id": "036b07d4",
   "metadata": {},
   "outputs": [],
   "source": [
    "import numpy as np\n",
    "row, col = np.where(data != no_data) \n",
    "elev = np.extract(data != no_data, data)"
   ]
  },
  {
   "cell_type": "code",
   "execution_count": 20,
   "id": "cd52e6aa",
   "metadata": {},
   "outputs": [],
   "source": [
    "from rasterio import Affine "
   ]
  },
  {
   "cell_type": "code",
   "execution_count": 21,
   "id": "9564302c",
   "metadata": {},
   "outputs": [],
   "source": [
    "T1 = out_transform * Affine.translation(0.5, 0.5)"
   ]
  },
  {
   "cell_type": "code",
   "execution_count": 22,
   "id": "c25ef41b",
   "metadata": {},
   "outputs": [],
   "source": [
    "rc2xy = lambda r, c: (c, r) * T1 "
   ]
  },
  {
   "cell_type": "code",
   "execution_count": 23,
   "id": "3e2a3e9d",
   "metadata": {},
   "outputs": [],
   "source": [
    "d = gpd.GeoDataFrame({'col':col,'row':row,'1000':elev})"
   ]
  },
  {
   "cell_type": "code",
   "execution_count": 24,
   "id": "a615697d",
   "metadata": {},
   "outputs": [
    {
     "name": "stderr",
     "output_type": "stream",
     "text": [
      "<ipython-input-22-5ff012c45039>:1: DeprecationWarning: Right multiplication will be prohibited in version 3.0\n",
      "  rc2xy = lambda r, c: (c, r) * T1\n"
     ]
    }
   ],
   "source": [
    "d['x'] = d.apply(lambda row: rc2xy(row.row,row.col)[0], axis=1)\n",
    "d['y'] = d.apply(lambda row: rc2xy(row.row,row.col)[1], axis=1)"
   ]
  },
  {
   "cell_type": "code",
   "execution_count": 25,
   "id": "9d3f5a3f",
   "metadata": {},
   "outputs": [
    {
     "name": "stderr",
     "output_type": "stream",
     "text": [
      "C:\\Users\\Nazia\\AppData\\Local\\ESRI\\conda\\envs\\arcgispro-py3-new\\lib\\site-packages\\pandas\\core\\dtypes\\cast.py:118: ShapelyDeprecationWarning: The array interface is deprecated and will no longer work in Shapely 2.0. Convert the '.coords' to a numpy array instead.\n",
      "  arr = construct_1d_object_array_from_listlike(values)\n"
     ]
    }
   ],
   "source": [
    "from shapely.geometry import Point\n",
    "d['geometry'] =d.apply(lambda row: Point(row['x'], row['y']), axis=1)"
   ]
  },
  {
   "cell_type": "code",
   "execution_count": 32,
   "id": "bdb5b9d6",
   "metadata": {},
   "outputs": [
    {
     "data": {
      "text/html": [
       "<div>\n",
       "<style scoped>\n",
       "    .dataframe tbody tr th:only-of-type {\n",
       "        vertical-align: middle;\n",
       "    }\n",
       "\n",
       "    .dataframe tbody tr th {\n",
       "        vertical-align: top;\n",
       "    }\n",
       "\n",
       "    .dataframe thead th {\n",
       "        text-align: right;\n",
       "    }\n",
       "</style>\n",
       "<table border=\"1\" class=\"dataframe\">\n",
       "  <thead>\n",
       "    <tr style=\"text-align: right;\">\n",
       "      <th></th>\n",
       "      <th>col</th>\n",
       "      <th>row</th>\n",
       "      <th>1000</th>\n",
       "      <th>x</th>\n",
       "      <th>y</th>\n",
       "      <th>geometry</th>\n",
       "    </tr>\n",
       "  </thead>\n",
       "  <tbody>\n",
       "    <tr>\n",
       "      <th>0</th>\n",
       "      <td>0</td>\n",
       "      <td>0</td>\n",
       "      <td>0</td>\n",
       "      <td>-95.964583</td>\n",
       "      <td>30.16875</td>\n",
       "      <td>POINT (-95.96458 30.16875)</td>\n",
       "    </tr>\n",
       "    <tr>\n",
       "      <th>1</th>\n",
       "      <td>1</td>\n",
       "      <td>0</td>\n",
       "      <td>0</td>\n",
       "      <td>-95.960417</td>\n",
       "      <td>30.16875</td>\n",
       "      <td>POINT (-95.96042 30.16875)</td>\n",
       "    </tr>\n",
       "    <tr>\n",
       "      <th>2</th>\n",
       "      <td>2</td>\n",
       "      <td>0</td>\n",
       "      <td>0</td>\n",
       "      <td>-95.956250</td>\n",
       "      <td>30.16875</td>\n",
       "      <td>POINT (-95.95625 30.16875)</td>\n",
       "    </tr>\n",
       "    <tr>\n",
       "      <th>3</th>\n",
       "      <td>3</td>\n",
       "      <td>0</td>\n",
       "      <td>0</td>\n",
       "      <td>-95.952083</td>\n",
       "      <td>30.16875</td>\n",
       "      <td>POINT (-95.95208 30.16875)</td>\n",
       "    </tr>\n",
       "    <tr>\n",
       "      <th>4</th>\n",
       "      <td>4</td>\n",
       "      <td>0</td>\n",
       "      <td>0</td>\n",
       "      <td>-95.947917</td>\n",
       "      <td>30.16875</td>\n",
       "      <td>POINT (-95.94792 30.16875)</td>\n",
       "    </tr>\n",
       "    <tr>\n",
       "      <th>5</th>\n",
       "      <td>5</td>\n",
       "      <td>0</td>\n",
       "      <td>0</td>\n",
       "      <td>-95.943750</td>\n",
       "      <td>30.16875</td>\n",
       "      <td>POINT (-95.94375 30.16875)</td>\n",
       "    </tr>\n",
       "    <tr>\n",
       "      <th>6</th>\n",
       "      <td>6</td>\n",
       "      <td>0</td>\n",
       "      <td>0</td>\n",
       "      <td>-95.939583</td>\n",
       "      <td>30.16875</td>\n",
       "      <td>POINT (-95.93958 30.16875)</td>\n",
       "    </tr>\n",
       "  </tbody>\n",
       "</table>\n",
       "</div>"
      ],
      "text/plain": [
       "   col  row  1000          x         y                    geometry\n",
       "0    0    0     0 -95.964583  30.16875  POINT (-95.96458 30.16875)\n",
       "1    1    0     0 -95.960417  30.16875  POINT (-95.96042 30.16875)\n",
       "2    2    0     0 -95.956250  30.16875  POINT (-95.95625 30.16875)\n",
       "3    3    0     0 -95.952083  30.16875  POINT (-95.95208 30.16875)\n",
       "4    4    0     0 -95.947917  30.16875  POINT (-95.94792 30.16875)\n",
       "5    5    0     0 -95.943750  30.16875  POINT (-95.94375 30.16875)\n",
       "6    6    0     0 -95.939583  30.16875  POINT (-95.93958 30.16875)"
      ]
     },
     "execution_count": 32,
     "metadata": {},
     "output_type": "execute_result"
    }
   ],
   "source": [
    "d.head(7)"
   ]
  },
  {
   "cell_type": "code",
   "execution_count": 28,
   "id": "3161b45e",
   "metadata": {},
   "outputs": [],
   "source": [
    "d.to_file(r\"C:\\Users\\Nazia\\research_ntl\\trial\\result\", driver='ESRI Shapefile')"
   ]
  },
  {
   "cell_type": "code",
   "execution_count": null,
   "id": "a274f5f5",
   "metadata": {},
   "outputs": [],
   "source": []
  }
 ],
 "metadata": {
  "kernelspec": {
   "display_name": "Python 3",
   "language": "python",
   "name": "python3"
  },
  "language_info": {
   "codemirror_mode": {
    "name": "ipython",
    "version": 3
   },
   "file_extension": ".py",
   "mimetype": "text/x-python",
   "name": "python",
   "nbconvert_exporter": "python",
   "pygments_lexer": "ipython3",
   "version": "3.9.11"
  }
 },
 "nbformat": 4,
 "nbformat_minor": 5
}
